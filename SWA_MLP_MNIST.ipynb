{
 "cells": [
  {
   "cell_type": "code",
   "execution_count": 1,
   "metadata": {},
   "outputs": [
    {
     "name": "stderr",
     "output_type": "stream",
     "text": [
      "Using TensorFlow backend.\n"
     ]
    }
   ],
   "source": [
    "%matplotlib inline\n",
    "import numpy as np\n",
    "import matplotlib.pyplot as plt\n",
    "\n",
    "from keras.datasets import mnist\n",
    "from keras.models import Sequential\n",
    "from keras.layers.core import Dense, Activation\n",
    "from keras.utils import np_utils\n",
    "import keras as K"
   ]
  },
  {
   "cell_type": "markdown",
   "metadata": {},
   "source": [
    "#### 数据准备"
   ]
  },
  {
   "cell_type": "code",
   "execution_count": 2,
   "metadata": {},
   "outputs": [
    {
     "name": "stdout",
     "output_type": "stream",
     "text": [
      "Extracting ./tmp/data/train-images-idx3-ubyte.gz\n",
      "Extracting ./tmp/data/train-labels-idx1-ubyte.gz\n",
      "Extracting ./tmp/data/t10k-images-idx3-ubyte.gz\n",
      "Extracting ./tmp/data/t10k-labels-idx1-ubyte.gz\n"
     ]
    }
   ],
   "source": [
    "from tensorflow.examples.tutorials.mnist import input_data\n",
    "mnist = input_data.read_data_sets(\"./tmp/data/\", one_hot=True) # 已经归一化处理"
   ]
  },
  {
   "cell_type": "code",
   "execution_count": 3,
   "metadata": {},
   "outputs": [
    {
     "name": "stdout",
     "output_type": "stream",
     "text": [
      "(55000, 784) (55000, 10)\n",
      "(5000, 784) (5000, 10)\n",
      "(10000, 784) (10000, 10)\n"
     ]
    }
   ],
   "source": [
    "X_train, y_train = mnist.train.images, mnist.train.labels\n",
    "X_valid, y_valid = mnist.validation.images, mnist.validation.labels\n",
    "X_test, y_test = mnist.test.images, mnist.test.labels\n",
    "print(X_train.shape, y_train.shape)\n",
    "print(X_valid.shape, y_valid.shape)\n",
    "print(X_test.shape, y_test.shape)"
   ]
  },
  {
   "cell_type": "markdown",
   "metadata": {},
   "source": [
    "#### 展示几张图片"
   ]
  },
  {
   "cell_type": "code",
   "execution_count": 8,
   "metadata": {},
   "outputs": [
    {
     "data": {
      "image/png": "[encoded data removed]",
      "text/plain": [
       "<Figure size 432x288 with 9 Axes>"
      ]
     },
     "metadata": {},
     "output_type": "display_data"
    }
   ],
   "source": [
    "for i in range(9):\n",
    "    plt.subplot(3,3,i+1)\n",
    "    plt.imshow(mnist.train.images[i].reshape(28,28), cmap='gray', interpolation='none')\n",
    "    plt.title(\"Class {}\".format(mnist.train.labels[i]))"
   ]
  },
  {
   "cell_type": "markdown",
   "metadata": {},
   "source": [
    "#### 构建模型"
   ]
  },
  {
   "cell_type": "code",
   "execution_count": 4,
   "metadata": {
    "collapsed": true
   },
   "outputs": [],
   "source": [
    "def MLP(lr):\n",
    "    model = Sequential()\n",
    "\n",
    "    model.add(Dense(784, input_shape=(784,), kernel_initializer='he_normal'))\n",
    "    model.add(Activation('relu'))\n",
    "    # model.add(Dropout(0.2)) \n",
    "\n",
    "    model.add(Dense(784, kernel_initializer='he_normal'))\n",
    "    model.add(Activation('relu'))\n",
    "    # model.add(Dropout(0.2)) \n",
    "\n",
    "    model.add(Dense(10))\n",
    "    model.add(Activation('softmax'))\n",
    "\n",
    "    model.compile(optimizer=K.optimizers.SGD(lr=lr),loss='categorical_crossentropy', metrics=['accuracy'])\n",
    "    return model"
   ]
  },
  {
   "cell_type": "markdown",
   "metadata": {},
   "source": [
    "### sgd"
   ]
  },
  {
   "cell_type": "code",
   "execution_count": 5,
   "metadata": {},
   "outputs": [
    {
     "name": "stdout",
     "output_type": "stream",
     "text": [
      "Train on 55000 samples, validate on 5000 samples\n",
      "Epoch 1/20\n",
      "learning rate of current epoch is : 0.05000000074505806\n",
      "55000/55000 [==============================] - 17s 302us/step - loss: 0.4361 - acc: 0.8825 - val_loss: 0.2476 - val_acc: 0.9302\n",
      "Epoch 2/20\n",
      "learning rate of current epoch is : 0.05000000074505806\n",
      "55000/55000 [==============================] - 9s 168us/step - loss: 0.2202 - acc: 0.9376 - val_loss: 0.1769 - val_acc: 0.9518\n",
      "Epoch 3/20\n",
      "learning rate of current epoch is : 0.05000000074505806\n",
      "55000/55000 [==============================] - 9s 169us/step - loss: 0.1684 - acc: 0.9521 - val_loss: 0.1462 - val_acc: 0.9602\n",
      "Epoch 4/20\n",
      "learning rate of current epoch is : 0.05000000074505806\n",
      "55000/55000 [==============================] - 9s 161us/step - loss: 0.1367 - acc: 0.9611 - val_loss: 0.1249 - val_acc: 0.9662\n",
      "Epoch 5/20\n",
      "learning rate of current epoch is : 0.05000000074505806\n",
      "55000/55000 [==============================] - 9s 160us/step - loss: 0.1149 - acc: 0.9678 - val_loss: 0.1106 - val_acc: 0.9696\n",
      "Epoch 6/20\n",
      "learning rate of current epoch is : 0.05000000074505806\n",
      "55000/55000 [==============================] - 9s 169us/step - loss: 0.0982 - acc: 0.9723 - val_loss: 0.1020 - val_acc: 0.9714\n",
      "Epoch 7/20\n",
      "learning rate of current epoch is : 0.05000000074505806\n",
      "55000/55000 [==============================] - 9s 172us/step - loss: 0.0851 - acc: 0.9761 - val_loss: 0.0940 - val_acc: 0.9738\n",
      "Epoch 8/20\n",
      "learning rate of current epoch is : 0.05000000074505806\n",
      "55000/55000 [==============================] - 9s 163us/step - loss: 0.0746 - acc: 0.9790 - val_loss: 0.0914 - val_acc: 0.9734\n",
      "Epoch 9/20\n",
      "learning rate of current epoch is : 0.05000000074505806\n",
      "55000/55000 [==============================] - 9s 163us/step - loss: 0.0654 - acc: 0.9821 - val_loss: 0.0845 - val_acc: 0.9760\n",
      "Epoch 10/20\n",
      "learning rate of current epoch is : 0.05000000074505806\n",
      "55000/55000 [==============================] - 9s 168us/step - loss: 0.0588 - acc: 0.9841 - val_loss: 0.0785 - val_acc: 0.9784\n",
      "Epoch 11/20\n",
      "learning rate of current epoch is : 0.05000000074505806\n",
      "55000/55000 [==============================] - 9s 170us/step - loss: 0.0523 - acc: 0.9863 - val_loss: 0.0794 - val_acc: 0.9770\n",
      "Epoch 12/20\n",
      "learning rate of current epoch is : 0.05000000074505806\n",
      "55000/55000 [==============================] - 9s 170us/step - loss: 0.0467 - acc: 0.9880 - val_loss: 0.0723 - val_acc: 0.9800\n",
      "Epoch 13/20\n",
      "learning rate of current epoch is : 0.05000000074505806\n",
      "55000/55000 [==============================] - 9s 159us/step - loss: 0.0418 - acc: 0.9893 - val_loss: 0.0719 - val_acc: 0.9776\n",
      "Epoch 14/20\n",
      "learning rate of current epoch is : 0.05000000074505806\n",
      "55000/55000 [==============================] - 9s 160us/step - loss: 0.0376 - acc: 0.9907 - val_loss: 0.0701 - val_acc: 0.9798\n",
      "Epoch 15/20\n",
      "learning rate of current epoch is : 0.05000000074505806\n",
      "55000/55000 [==============================] - 9s 157us/step - loss: 0.0337 - acc: 0.9919 - val_loss: 0.0678 - val_acc: 0.9794\n",
      "Epoch 16/20\n",
      "learning rate of current epoch is : 0.05000000074505806\n",
      "55000/55000 [==============================] - 9s 163us/step - loss: 0.0306 - acc: 0.9927 - val_loss: 0.0666 - val_acc: 0.9798\n",
      "Epoch 17/20\n",
      "learning rate of current epoch is : 0.05000000074505806\n",
      "55000/55000 [==============================] - 9s 169us/step - loss: 0.0271 - acc: 0.9943 - val_loss: 0.0652 - val_acc: 0.9798\n",
      "Epoch 18/20\n",
      "learning rate of current epoch is : 0.05000000074505806\n",
      "55000/55000 [==============================] - 10s 173us/step - loss: 0.0244 - acc: 0.9949 - val_loss: 0.0642 - val_acc: 0.9820\n",
      "Epoch 19/20\n",
      "learning rate of current epoch is : 0.05000000074505806\n",
      "55000/55000 [==============================] - 9s 166us/step - loss: 0.0225 - acc: 0.9953 - val_loss: 0.0632 - val_acc: 0.9812\n",
      "Epoch 20/20\n",
      "learning rate of current epoch is : 0.05000000074505806\n",
      "55000/55000 [==============================] - 9s 167us/step - loss: 0.0200 - acc: 0.9963 - val_loss: 0.0628 - val_acc: 0.9820\n"
     ]
    },
    {
     "data": {
      "text/plain": [
       "<keras.callbacks.History at 0x10b08940>"
      ]
     },
     "execution_count": 5,
     "metadata": {},
     "output_type": "execute_result"
    }
   ],
   "source": [
    "from swa import LearningRateDisplay\n",
    "training_epochs = 20\n",
    "batch_size = 100\n",
    "lr = 0.05\n",
    "model_sgd = MLP(lr)\n",
    "lr_display_obj = LearningRateDisplay()\n",
    "model_sgd.fit(X_train, y_train, validation_data=(X_valid, y_valid),callbacks=[lr_display_obj], epochs=training_epochs, batch_size=batch_size)"
   ]
  },
  {
   "cell_type": "code",
   "execution_count": 7,
   "metadata": {},
   "outputs": [
    {
     "name": "stdout",
     "output_type": "stream",
     "text": [
      "10000/10000 [==============================] - 1s 143us/step\n",
      "Test loss: 0.0648167538861\n",
      "Accuracy: 0.9808\n"
     ]
    }
   ],
   "source": [
    "# 测试结果\n",
    "loss, accuracy = model_sgd.evaluate(X_test, y_test)\n",
    "print('Test loss:', loss)\n",
    "print('Accuracy:', accuracy)"
   ]
  },
  {
   "cell_type": "markdown",
   "metadata": {},
   "source": [
    "## swa\n",
    "三种学习率策略  \n",
    "![](./img/lr.png)"
   ]
  },
  {
   "cell_type": "code",
   "execution_count": 17,
   "metadata": {
    "collapsed": true
   },
   "outputs": [],
   "source": [
    "from swa import SWA\n",
    "from lr_schedule import LR_schedule\n",
    "from keras.callbacks import LearningRateScheduler\n",
    "swa_start = 17\n",
    "lr_start = 0.05\n",
    "lr_end = 0.04\n",
    "training_epochs = 20\n",
    "batch_size = 100"
   ]
  },
  {
   "cell_type": "code",
   "execution_count": 20,
   "metadata": {},
   "outputs": [
    {
     "name": "stdout",
     "output_type": "stream",
     "text": [
      "Train on 55000 samples, validate on 10000 samples\n",
      "Stochastic weight averaging selected for last 3 epochs.\n",
      "Epoch 1/20\n",
      "learning rate of current epoch is : 0.05000000074505806\n",
      "55000/55000 [==============================] - 10s 177us/step - loss: 0.4405 - acc: 0.8833 - val_loss: 0.2370 - val_acc: 0.9350\n",
      "Epoch 2/20\n",
      "learning rate of current epoch is : 0.05000000074505806\n",
      "55000/55000 [==============================] - 9s 171us/step - loss: 0.2213 - acc: 0.9370 - val_loss: 0.1971 - val_acc: 0.9422\n",
      "Epoch 3/20\n",
      "learning rate of current epoch is : 0.05000000074505806\n",
      "55000/55000 [==============================] - 9s 167us/step - loss: 0.1714 - acc: 0.9513 - val_loss: 0.1492 - val_acc: 0.9574\n",
      "Epoch 4/20\n",
      "learning rate of current epoch is : 0.05000000074505806\n",
      "55000/55000 [==============================] - 9s 168us/step - loss: 0.1388 - acc: 0.9605 - val_loss: 0.1292 - val_acc: 0.9619\n",
      "Epoch 5/20\n",
      "learning rate of current epoch is : 0.05000000074505806\n",
      "55000/55000 [==============================] - 10s 182us/step - loss: 0.1168 - acc: 0.9671 - val_loss: 0.1200 - val_acc: 0.9652\n",
      "Epoch 6/20\n",
      "learning rate of current epoch is : 0.05000000074505806\n",
      "55000/55000 [==============================] - 9s 168us/step - loss: 0.1000 - acc: 0.9716 - val_loss: 0.1127 - val_acc: 0.9657\n",
      "Epoch 7/20\n",
      "learning rate of current epoch is : 0.05000000074505806\n",
      "55000/55000 [==============================] - 9s 169us/step - loss: 0.0872 - acc: 0.9759 - val_loss: 0.0976 - val_acc: 0.9710\n",
      "Epoch 8/20\n",
      "learning rate of current epoch is : 0.05000000074505806\n",
      "55000/55000 [==============================] - 9s 167us/step - loss: 0.0766 - acc: 0.9784 - val_loss: 0.0901 - val_acc: 0.9736\n",
      "Epoch 9/20\n",
      "learning rate of current epoch is : 0.05000000074505806\n",
      "55000/55000 [==============================] - 9s 167us/step - loss: 0.0673 - acc: 0.9815 - val_loss: 0.0871 - val_acc: 0.9732\n",
      "Epoch 10/20\n",
      "learning rate of current epoch is : 0.049264706671237946\n",
      "55000/55000 [==============================] - 9s 164us/step - loss: 0.0599 - acc: 0.9841 - val_loss: 0.0817 - val_acc: 0.9749\n",
      "Epoch 11/20\n",
      "learning rate of current epoch is : 0.04779411852359772\n",
      "55000/55000 [==============================] - 9s 165us/step - loss: 0.0529 - acc: 0.9864 - val_loss: 0.0792 - val_acc: 0.9746\n",
      "Epoch 12/20\n",
      "learning rate of current epoch is : 0.04632353037595749\n",
      "55000/55000 [==============================] - 9s 171us/step - loss: 0.0473 - acc: 0.9875 - val_loss: 0.0793 - val_acc: 0.9753\n",
      "Epoch 13/20\n",
      "learning rate of current epoch is : 0.04485294222831726\n",
      "55000/55000 [==============================] - 10s 174us/step - loss: 0.0431 - acc: 0.9890 - val_loss: 0.0739 - val_acc: 0.9769\n",
      "Epoch 14/20\n",
      "learning rate of current epoch is : 0.04338235408067703\n",
      "55000/55000 [==============================] - 9s 170us/step - loss: 0.0390 - acc: 0.9902 - val_loss: 0.0731 - val_acc: 0.9777\n",
      "Epoch 15/20\n",
      "learning rate of current epoch is : 0.041911765933036804\n",
      "55000/55000 [==============================] - 10s 178us/step - loss: 0.0352 - acc: 0.9917 - val_loss: 0.0720 - val_acc: 0.9782\n",
      "Epoch 16/20\n",
      "learning rate of current epoch is : 0.040441177785396576\n",
      "55000/55000 [==============================] - 10s 175us/step - loss: 0.0321 - acc: 0.9925 - val_loss: 0.0733 - val_acc: 0.9775\n",
      "Epoch 17/20\n",
      "learning rate of current epoch is : 0.03999999910593033\n",
      "55000/55000 [==============================] - 10s 175us/step - loss: 0.0294 - acc: 0.9932 - val_loss: 0.0705 - val_acc: 0.9767\n",
      "Epoch 18/20\n",
      "learning rate of current epoch is : 0.03999999910593033\n",
      "55000/55000 [==============================] - 10s 180us/step - loss: 0.0270 - acc: 0.9945 - val_loss: 0.0703 - val_acc: 0.9776\n",
      "Epoch 19/20\n",
      "learning rate of current epoch is : 0.03999999910593033\n",
      "55000/55000 [==============================] - 12s 219us/step - loss: 0.0249 - acc: 0.9949 - val_loss: 0.0674 - val_acc: 0.9789\n",
      "Epoch 20/20\n",
      "learning rate of current epoch is : 0.03999999910593033\n",
      "55000/55000 [==============================] - 11s 192us/step - loss: 0.0232 - acc: 0.9956 - val_loss: 0.0696 - val_acc: 0.9786\n",
      "set stochastic weight average as final model parameters [FINISH].\n"
     ]
    },
    {
     "data": {
      "text/plain": [
       "<keras.callbacks.History at 0x377da710>"
      ]
     },
     "execution_count": 20,
     "metadata": {},
     "output_type": "execute_result"
    }
   ],
   "source": [
    "# 学习率下降 \n",
    "schedule = lambda epoch: LR_schedule(epoch, SWA_START=swa_start, lr_start=lr_start, lr_end=lr_end)\n",
    "lr_schedule_obj = LearningRateScheduler(schedule=schedule)\n",
    "swa_obj = SWA('',swa_start)\n",
    "model_swa1 = MLP(lr=lr_start)\n",
    "model_swa1.fit(X_train, y_train,callbacks=[lr_schedule_obj,swa_obj],validation_data=(X_test, y_test),epochs=training_epochs,batch_size=batch_size)"
   ]
  },
  {
   "cell_type": "code",
   "execution_count": 21,
   "metadata": {},
   "outputs": [
    {
     "name": "stdout",
     "output_type": "stream",
     "text": [
      "10000/10000 [==============================] - 1s 128us/step\n",
      "Test loss: 0.0675712019384\n",
      "Accuracy: 0.9794\n"
     ]
    }
   ],
   "source": [
    "# 测试结果\n",
    "loss, accuracy = model_swa1.evaluate(X_test, y_test)\n",
    "print('Test loss:', loss)\n",
    "print('Accuracy:', accuracy)"
   ]
  },
  {
   "cell_type": "code",
   "execution_count": 22,
   "metadata": {},
   "outputs": [
    {
     "name": "stdout",
     "output_type": "stream",
     "text": [
      "Train on 55000 samples, validate on 10000 samples\n",
      "Stochastic weight averaging selected for last 3 epochs.\n",
      "Epoch 1/20\n",
      "learning rate of current epoch is : 0.04899999871850014\n",
      "55000/55000 [==============================] - 10s 173us/step - loss: 0.4455 - acc: 0.8791 - val_loss: 0.2526 - val_acc: 0.9270\n",
      "Epoch 2/20\n",
      "learning rate of current epoch is : 0.04800000041723251\n",
      "55000/55000 [==============================] - 9s 164us/step - loss: 0.2240 - acc: 0.9359 - val_loss: 0.1836 - val_acc: 0.9467\n",
      "Epoch 3/20\n",
      "learning rate of current epoch is : 0.04699999839067459\n",
      "55000/55000 [==============================] - 9s 159us/step - loss: 0.1726 - acc: 0.9512 - val_loss: 0.1568 - val_acc: 0.9542\n",
      "Epoch 4/20\n",
      "learning rate of current epoch is : 0.04600000008940697\n",
      "55000/55000 [==============================] - 9s 161us/step - loss: 0.1397 - acc: 0.9607 - val_loss: 0.1312 - val_acc: 0.9613\n",
      "Epoch 5/20\n",
      "learning rate of current epoch is : 0.04500000178813934\n",
      "55000/55000 [==============================] - 9s 161us/step - loss: 0.1183 - acc: 0.9665 - val_loss: 0.1295 - val_acc: 0.9618\n",
      "Epoch 6/20\n",
      "learning rate of current epoch is : 0.04399999976158142\n",
      "55000/55000 [==============================] - 9s 163us/step - loss: 0.1017 - acc: 0.9715 - val_loss: 0.1060 - val_acc: 0.9678\n",
      "Epoch 7/20\n",
      "learning rate of current epoch is : 0.0430000014603138\n",
      "55000/55000 [==============================] - 9s 163us/step - loss: 0.0890 - acc: 0.9751 - val_loss: 0.0984 - val_acc: 0.9699\n",
      "Epoch 8/20\n",
      "learning rate of current epoch is : 0.041999999433755875\n",
      "55000/55000 [==============================] - 9s 161us/step - loss: 0.0791 - acc: 0.9777 - val_loss: 0.0940 - val_acc: 0.9719\n",
      "Epoch 9/20\n",
      "learning rate of current epoch is : 0.04100000113248825\n",
      "55000/55000 [==============================] - 9s 166us/step - loss: 0.0706 - acc: 0.9806 - val_loss: 0.0867 - val_acc: 0.9727\n",
      "Epoch 10/20\n",
      "learning rate of current epoch is : 0.03999999910593033\n",
      "55000/55000 [==============================] - 9s 165us/step - loss: 0.0636 - acc: 0.9825 - val_loss: 0.0820 - val_acc: 0.9755\n",
      "Epoch 11/20\n",
      "learning rate of current epoch is : 0.04899999871850014\n",
      "55000/55000 [==============================] - 10s 178us/step - loss: 0.0586 - acc: 0.9843 - val_loss: 0.0797 - val_acc: 0.9758\n",
      "Epoch 12/20\n",
      "learning rate of current epoch is : 0.04800000041723251\n",
      "55000/55000 [==============================] - 10s 177us/step - loss: 0.0523 - acc: 0.9861 - val_loss: 0.0789 - val_acc: 0.9758\n",
      "Epoch 13/20\n",
      "learning rate of current epoch is : 0.04699999839067459\n",
      "55000/55000 [==============================] - 9s 166us/step - loss: 0.0470 - acc: 0.9879 - val_loss: 0.0742 - val_acc: 0.9774\n",
      "Epoch 14/20\n",
      "learning rate of current epoch is : 0.04600000008940697\n",
      "55000/55000 [==============================] - 9s 163us/step - loss: 0.0423 - acc: 0.9893 - val_loss: 0.0739 - val_acc: 0.9767\n",
      "Epoch 15/20\n",
      "learning rate of current epoch is : 0.04500000178813934\n",
      "55000/55000 [==============================] - 9s 165us/step - loss: 0.0382 - acc: 0.9903 - val_loss: 0.0713 - val_acc: 0.9782\n",
      "Epoch 16/20\n",
      "learning rate of current epoch is : 0.04399999976158142\n",
      "55000/55000 [==============================] - 9s 162us/step - loss: 0.0345 - acc: 0.9914 - val_loss: 0.0690 - val_acc: 0.9780\n",
      "Epoch 17/20\n",
      "learning rate of current epoch is : 0.0430000014603138\n",
      "55000/55000 [==============================] - 9s 164us/step - loss: 0.0314 - acc: 0.9923 - val_loss: 0.0683 - val_acc: 0.9794\n",
      "Epoch 18/20\n",
      "learning rate of current epoch is : 0.041999999433755875\n",
      "55000/55000 [==============================] - 10s 174us/step - loss: 0.0286 - acc: 0.9935 - val_loss: 0.0703 - val_acc: 0.9788\n",
      "Epoch 19/20\n",
      "learning rate of current epoch is : 0.04100000113248825\n",
      "55000/55000 [==============================] - 9s 164us/step - loss: 0.0260 - acc: 0.9946 - val_loss: 0.0667 - val_acc: 0.9803\n",
      "Epoch 20/20\n",
      "learning rate of current epoch is : 0.03999999910593033\n",
      "55000/55000 [==============================] - 9s 166us/step - loss: 0.0238 - acc: 0.9951 - val_loss: 0.0664 - val_acc: 0.9798\n",
      "set stochastic weight average as final model parameters [FINISH].\n"
     ]
    },
    {
     "data": {
      "text/plain": [
       "<keras.callbacks.History at 0x3b03e710>"
      ]
     },
     "execution_count": 22,
     "metadata": {},
     "output_type": "execute_result"
    }
   ],
   "source": [
    "# 循环学习率\n",
    "schedule = lambda epoch: LR_schedule(epoch, flag=True,SWA_START=swa_start, lr_start=lr_start, lr_end=lr_end, c=10)\n",
    "lr_schedule_obj = LearningRateScheduler(schedule=schedule)\n",
    "swa_obj = SWA('',swa_start)\n",
    "model_swa2 = MLP(lr=lr_start)\n",
    "model_swa2.fit(X_train, y_train,callbacks=[lr_schedule_obj,swa_obj],validation_data=(X_test, y_test),epochs=training_epochs,batch_size=batch_size)"
   ]
  },
  {
   "cell_type": "code",
   "execution_count": 23,
   "metadata": {},
   "outputs": [
    {
     "name": "stdout",
     "output_type": "stream",
     "text": [
      "10000/10000 [==============================] - 1s 149us/step\n",
      "Test loss: 0.0651302281858\n",
      "Accuracy: 0.98\n"
     ]
    }
   ],
   "source": [
    "# 测试结果\n",
    "loss, accuracy = model_swa2.evaluate(X_test, y_test)\n",
    "print('Test loss:', loss)\n",
    "print('Accuracy:', accuracy)"
   ]
  },
  {
   "cell_type": "code",
   "execution_count": 18,
   "metadata": {},
   "outputs": [
    {
     "name": "stdout",
     "output_type": "stream",
     "text": [
      "Train on 55000 samples, validate on 10000 samples\n",
      "Stochastic weight averaging selected for last 3 epochs.\n",
      "Epoch 1/20\n",
      "learning rate of current epoch is : 0.05000000074505806\n",
      "55000/55000 [==============================] - 10s 176us/step - loss: 0.4398 - acc: 0.8814 - val_loss: 0.2386 - val_acc: 0.9319\n",
      "Epoch 2/20\n",
      "learning rate of current epoch is : 0.05000000074505806\n",
      "55000/55000 [==============================] - 9s 170us/step - loss: 0.2214 - acc: 0.9367 - val_loss: 0.1796 - val_acc: 0.9471\n",
      "Epoch 3/20\n",
      "learning rate of current epoch is : 0.05000000074505806\n",
      "55000/55000 [==============================] - 9s 168us/step - loss: 0.1702 - acc: 0.9521 - val_loss: 0.1483 - val_acc: 0.9554\n",
      "Epoch 4/20\n",
      "learning rate of current epoch is : 0.05000000074505806\n",
      "55000/55000 [==============================] - 9s 167us/step - loss: 0.1378 - acc: 0.9609 - val_loss: 0.1290 - val_acc: 0.9617\n",
      "Epoch 5/20\n",
      "learning rate of current epoch is : 0.05000000074505806\n",
      "55000/55000 [==============================] - 9s 166us/step - loss: 0.1156 - acc: 0.9675 - val_loss: 0.1166 - val_acc: 0.9644\n",
      "Epoch 6/20\n",
      "learning rate of current epoch is : 0.05000000074505806\n",
      "55000/55000 [==============================] - 9s 167us/step - loss: 0.0981 - acc: 0.9724 - val_loss: 0.1045 - val_acc: 0.9700\n",
      "Epoch 7/20\n",
      "learning rate of current epoch is : 0.05000000074505806\n",
      "55000/55000 [==============================] - 9s 168us/step - loss: 0.0856 - acc: 0.9759 - val_loss: 0.0943 - val_acc: 0.9703\n",
      "Epoch 8/20\n",
      "learning rate of current epoch is : 0.05000000074505806\n",
      "55000/55000 [==============================] - 9s 169us/step - loss: 0.0748 - acc: 0.9792 - val_loss: 0.0887 - val_acc: 0.9735\n",
      "Epoch 9/20\n",
      "learning rate of current epoch is : 0.05000000074505806\n",
      "55000/55000 [==============================] - 9s 168us/step - loss: 0.0661 - acc: 0.9817 - val_loss: 0.0878 - val_acc: 0.9733\n",
      "Epoch 10/20\n",
      "learning rate of current epoch is : 0.05000000074505806\n",
      "55000/55000 [==============================] - 9s 172us/step - loss: 0.0589 - acc: 0.9839 - val_loss: 0.0776 - val_acc: 0.9769\n",
      "Epoch 11/20\n",
      "learning rate of current epoch is : 0.05000000074505806\n",
      "55000/55000 [==============================] - 9s 173us/step - loss: 0.0521 - acc: 0.9858 - val_loss: 0.0781 - val_acc: 0.9750\n",
      "Epoch 12/20\n",
      "learning rate of current epoch is : 0.05000000074505806\n",
      "55000/55000 [==============================] - 9s 172us/step - loss: 0.0464 - acc: 0.9879 - val_loss: 0.0744 - val_acc: 0.9771\n",
      "Epoch 13/20\n",
      "learning rate of current epoch is : 0.05000000074505806\n",
      "55000/55000 [==============================] - 10s 176us/step - loss: 0.0418 - acc: 0.9891 - val_loss: 0.0722 - val_acc: 0.9771\n",
      "Epoch 14/20\n",
      "learning rate of current epoch is : 0.05000000074505806\n",
      "55000/55000 [==============================] - 10s 173us/step - loss: 0.0374 - acc: 0.9901 - val_loss: 0.0700 - val_acc: 0.9780\n",
      "Epoch 15/20\n",
      "learning rate of current epoch is : 0.05000000074505806\n",
      "55000/55000 [==============================] - 10s 177us/step - loss: 0.0334 - acc: 0.9920 - val_loss: 0.0676 - val_acc: 0.9786\n",
      "Epoch 16/20\n",
      "learning rate of current epoch is : 0.05000000074505806\n",
      "55000/55000 [==============================] - 10s 176us/step - loss: 0.0303 - acc: 0.9931 - val_loss: 0.0669 - val_acc: 0.9791\n",
      "Epoch 17/20\n",
      "learning rate of current epoch is : 0.05000000074505806\n",
      "55000/55000 [==============================] - 10s 176us/step - loss: 0.0274 - acc: 0.9940 - val_loss: 0.0674 - val_acc: 0.9799\n",
      "Epoch 18/20\n",
      "learning rate of current epoch is : 0.05000000074505806\n",
      "55000/55000 [==============================] - 10s 177us/step - loss: 0.0246 - acc: 0.9949 - val_loss: 0.0666 - val_acc: 0.9800\n",
      "Epoch 19/20\n",
      "learning rate of current epoch is : 0.05000000074505806\n",
      "55000/55000 [==============================] - 10s 183us/step - loss: 0.0221 - acc: 0.9958 - val_loss: 0.0650 - val_acc: 0.9805\n",
      "Epoch 20/20\n",
      "learning rate of current epoch is : 0.05000000074505806\n",
      "55000/55000 [==============================] - 10s 174us/step - loss: 0.0202 - acc: 0.9961 - val_loss: 0.0636 - val_acc: 0.9801\n",
      "set stochastic weight average as final model parameters [FINISH].\n"
     ]
    },
    {
     "data": {
      "text/plain": [
       "<keras.callbacks.History at 0x375d4dd8>"
      ]
     },
     "execution_count": 18,
     "metadata": {},
     "output_type": "execute_result"
    }
   ],
   "source": [
    "# 恒定学习率\n",
    "swa_obj = SWA('',swa_start)\n",
    "model_swa3 = MLP(lr=lr_start)\n",
    "model_swa3.fit(X_train, y_train,callbacks=[swa_obj],validation_data=(X_test, y_test),epochs=training_epochs,batch_size=batch_size)"
   ]
  },
  {
   "cell_type": "code",
   "execution_count": 19,
   "metadata": {},
   "outputs": [
    {
     "name": "stdout",
     "output_type": "stream",
     "text": [
      "10000/10000 [==============================] - 1s 136us/step\n",
      "Test loss: 0.063436613702\n",
      "Accuracy: 0.9808\n"
     ]
    }
   ],
   "source": [
    "# 测试结果\n",
    "loss, accuracy = model_swa3.evaluate(mnist.test.images, mnist.test.labels)\n",
    "print('Test loss:', loss)\n",
    "print('Accuracy:', accuracy)"
   ]
  }
 ],
 "metadata": {
  "kernelspec": {
   "display_name": "Python 3",
   "language": "python",
   "name": "python3"
  },
  "language_info": {
   "codemirror_mode": {
    "name": "ipython",
    "version": 3
   },
   "file_extension": ".py",
   "mimetype": "text/x-python",
   "name": "python",
   "nbconvert_exporter": "python",
   "pygments_lexer": "ipython3",
   "version": "3.6.1"
  }
 },
 "nbformat": 4,
 "nbformat_minor": 2
}
